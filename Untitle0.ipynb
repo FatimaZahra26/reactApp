{
  "nbformat": 4,
  "nbformat_minor": 0,
  "metadata": {
    "colab": {
      "provenance": [],
      "authorship_tag": "ABX9TyPLOJeWEmQOkdldBPNAIUNn",
      "include_colab_link": true
    },
    "kernelspec": {
      "name": "python3",
      "display_name": "Python 3"
    },
    "language_info": {
      "name": "python"
    }
  },
  "cells": [
    {
      "cell_type": "markdown",
      "metadata": {
        "id": "view-in-github",
        "colab_type": "text"
      },
      "source": [
        "<a href=\"https://colab.research.google.com/github/FatimaZahra26/reactApp/blob/main/Untitle0.ipynb\" target=\"_parent\"><img src=\"https://colab.research.google.com/assets/colab-badge.svg\" alt=\"Open In Colab\"/></a>"
      ]
    },
    {
      "cell_type": "code",
      "execution_count": null,
      "metadata": {
        "id": "OjbUp7RHA9RT"
      },
      "outputs": [],
      "source": [
        "!pip install -q kaggle"
      ]
    },
    {
      "cell_type": "code",
      "source": [
        "from google.colab import files\n",
        "files.upload()\n"
      ],
      "metadata": {
        "colab": {
          "base_uri": "https://localhost:8080/",
          "height": 90
        },
        "id": "i6ESOPWWD_xI",
        "outputId": "d8161a20-fd75-43a7-b7e7-285e890621a3"
      },
      "execution_count": null,
      "outputs": [
        {
          "output_type": "display_data",
          "data": {
            "text/plain": [
              "<IPython.core.display.HTML object>"
            ],
            "text/html": [
              "\n",
              "     <input type=\"file\" id=\"files-6b2257d7-96d4-4967-9897-885de22cdcfc\" name=\"files[]\" multiple disabled\n",
              "        style=\"border:none\" />\n",
              "     <output id=\"result-6b2257d7-96d4-4967-9897-885de22cdcfc\">\n",
              "      Upload widget is only available when the cell has been executed in the\n",
              "      current browser session. Please rerun this cell to enable.\n",
              "      </output>\n",
              "      <script>// Copyright 2017 Google LLC\n",
              "//\n",
              "// Licensed under the Apache License, Version 2.0 (the \"License\");\n",
              "// you may not use this file except in compliance with the License.\n",
              "// You may obtain a copy of the License at\n",
              "//\n",
              "//      http://www.apache.org/licenses/LICENSE-2.0\n",
              "//\n",
              "// Unless required by applicable law or agreed to in writing, software\n",
              "// distributed under the License is distributed on an \"AS IS\" BASIS,\n",
              "// WITHOUT WARRANTIES OR CONDITIONS OF ANY KIND, either express or implied.\n",
              "// See the License for the specific language governing permissions and\n",
              "// limitations under the License.\n",
              "\n",
              "/**\n",
              " * @fileoverview Helpers for google.colab Python module.\n",
              " */\n",
              "(function(scope) {\n",
              "function span(text, styleAttributes = {}) {\n",
              "  const element = document.createElement('span');\n",
              "  element.textContent = text;\n",
              "  for (const key of Object.keys(styleAttributes)) {\n",
              "    element.style[key] = styleAttributes[key];\n",
              "  }\n",
              "  return element;\n",
              "}\n",
              "\n",
              "// Max number of bytes which will be uploaded at a time.\n",
              "const MAX_PAYLOAD_SIZE = 100 * 1024;\n",
              "\n",
              "function _uploadFiles(inputId, outputId) {\n",
              "  const steps = uploadFilesStep(inputId, outputId);\n",
              "  const outputElement = document.getElementById(outputId);\n",
              "  // Cache steps on the outputElement to make it available for the next call\n",
              "  // to uploadFilesContinue from Python.\n",
              "  outputElement.steps = steps;\n",
              "\n",
              "  return _uploadFilesContinue(outputId);\n",
              "}\n",
              "\n",
              "// This is roughly an async generator (not supported in the browser yet),\n",
              "// where there are multiple asynchronous steps and the Python side is going\n",
              "// to poll for completion of each step.\n",
              "// This uses a Promise to block the python side on completion of each step,\n",
              "// then passes the result of the previous step as the input to the next step.\n",
              "function _uploadFilesContinue(outputId) {\n",
              "  const outputElement = document.getElementById(outputId);\n",
              "  const steps = outputElement.steps;\n",
              "\n",
              "  const next = steps.next(outputElement.lastPromiseValue);\n",
              "  return Promise.resolve(next.value.promise).then((value) => {\n",
              "    // Cache the last promise value to make it available to the next\n",
              "    // step of the generator.\n",
              "    outputElement.lastPromiseValue = value;\n",
              "    return next.value.response;\n",
              "  });\n",
              "}\n",
              "\n",
              "/**\n",
              " * Generator function which is called between each async step of the upload\n",
              " * process.\n",
              " * @param {string} inputId Element ID of the input file picker element.\n",
              " * @param {string} outputId Element ID of the output display.\n",
              " * @return {!Iterable<!Object>} Iterable of next steps.\n",
              " */\n",
              "function* uploadFilesStep(inputId, outputId) {\n",
              "  const inputElement = document.getElementById(inputId);\n",
              "  inputElement.disabled = false;\n",
              "\n",
              "  const outputElement = document.getElementById(outputId);\n",
              "  outputElement.innerHTML = '';\n",
              "\n",
              "  const pickedPromise = new Promise((resolve) => {\n",
              "    inputElement.addEventListener('change', (e) => {\n",
              "      resolve(e.target.files);\n",
              "    });\n",
              "  });\n",
              "\n",
              "  const cancel = document.createElement('button');\n",
              "  inputElement.parentElement.appendChild(cancel);\n",
              "  cancel.textContent = 'Cancel upload';\n",
              "  const cancelPromise = new Promise((resolve) => {\n",
              "    cancel.onclick = () => {\n",
              "      resolve(null);\n",
              "    };\n",
              "  });\n",
              "\n",
              "  // Wait for the user to pick the files.\n",
              "  const files = yield {\n",
              "    promise: Promise.race([pickedPromise, cancelPromise]),\n",
              "    response: {\n",
              "      action: 'starting',\n",
              "    }\n",
              "  };\n",
              "\n",
              "  cancel.remove();\n",
              "\n",
              "  // Disable the input element since further picks are not allowed.\n",
              "  inputElement.disabled = true;\n",
              "\n",
              "  if (!files) {\n",
              "    return {\n",
              "      response: {\n",
              "        action: 'complete',\n",
              "      }\n",
              "    };\n",
              "  }\n",
              "\n",
              "  for (const file of files) {\n",
              "    const li = document.createElement('li');\n",
              "    li.append(span(file.name, {fontWeight: 'bold'}));\n",
              "    li.append(span(\n",
              "        `(${file.type || 'n/a'}) - ${file.size} bytes, ` +\n",
              "        `last modified: ${\n",
              "            file.lastModifiedDate ? file.lastModifiedDate.toLocaleDateString() :\n",
              "                                    'n/a'} - `));\n",
              "    const percent = span('0% done');\n",
              "    li.appendChild(percent);\n",
              "\n",
              "    outputElement.appendChild(li);\n",
              "\n",
              "    const fileDataPromise = new Promise((resolve) => {\n",
              "      const reader = new FileReader();\n",
              "      reader.onload = (e) => {\n",
              "        resolve(e.target.result);\n",
              "      };\n",
              "      reader.readAsArrayBuffer(file);\n",
              "    });\n",
              "    // Wait for the data to be ready.\n",
              "    let fileData = yield {\n",
              "      promise: fileDataPromise,\n",
              "      response: {\n",
              "        action: 'continue',\n",
              "      }\n",
              "    };\n",
              "\n",
              "    // Use a chunked sending to avoid message size limits. See b/62115660.\n",
              "    let position = 0;\n",
              "    do {\n",
              "      const length = Math.min(fileData.byteLength - position, MAX_PAYLOAD_SIZE);\n",
              "      const chunk = new Uint8Array(fileData, position, length);\n",
              "      position += length;\n",
              "\n",
              "      const base64 = btoa(String.fromCharCode.apply(null, chunk));\n",
              "      yield {\n",
              "        response: {\n",
              "          action: 'append',\n",
              "          file: file.name,\n",
              "          data: base64,\n",
              "        },\n",
              "      };\n",
              "\n",
              "      let percentDone = fileData.byteLength === 0 ?\n",
              "          100 :\n",
              "          Math.round((position / fileData.byteLength) * 100);\n",
              "      percent.textContent = `${percentDone}% done`;\n",
              "\n",
              "    } while (position < fileData.byteLength);\n",
              "  }\n",
              "\n",
              "  // All done.\n",
              "  yield {\n",
              "    response: {\n",
              "      action: 'complete',\n",
              "    }\n",
              "  };\n",
              "}\n",
              "\n",
              "scope.google = scope.google || {};\n",
              "scope.google.colab = scope.google.colab || {};\n",
              "scope.google.colab._files = {\n",
              "  _uploadFiles,\n",
              "  _uploadFilesContinue,\n",
              "};\n",
              "})(self);\n",
              "</script> "
            ]
          },
          "metadata": {}
        },
        {
          "output_type": "stream",
          "name": "stdout",
          "text": [
            "Saving kaggle.json to kaggle.json\n"
          ]
        },
        {
          "output_type": "execute_result",
          "data": {
            "text/plain": [
              "{'kaggle.json': b'{\"username\":\"fatimazahrahajaj\",\"key\":\"f0be8fedc516db7217a18764fa1d1bd3\"}'}"
            ]
          },
          "metadata": {},
          "execution_count": 4
        }
      ]
    },
    {
      "cell_type": "code",
      "source": [
        "!mkdir ~/.kaggle"
      ],
      "metadata": {
        "id": "CJ8hh4s5E69u"
      },
      "execution_count": null,
      "outputs": []
    },
    {
      "cell_type": "code",
      "source": [
        "!cp kaggle.json  ~/.kaggle/"
      ],
      "metadata": {
        "id": "ky5t2W0NFX1W"
      },
      "execution_count": null,
      "outputs": []
    },
    {
      "cell_type": "code",
      "source": [
        "! chmod 600  ~/.kaggle/kaggle.json"
      ],
      "metadata": {
        "id": "2F6kxrKvFj3l"
      },
      "execution_count": null,
      "outputs": []
    },
    {
      "cell_type": "code",
      "source": [
        "!kaggle datasets list"
      ],
      "metadata": {
        "colab": {
          "base_uri": "https://localhost:8080/"
        },
        "id": "6dzphlGYF5ZC",
        "outputId": "b36d6690-e7bb-4541-98d7-a58b40256074"
      },
      "execution_count": null,
      "outputs": [
        {
          "output_type": "stream",
          "name": "stdout",
          "text": [
            "Warning: Looks like you're using an outdated API Version, please consider updating (server 1.6.6 / client 1.5.16)\n",
            "ref                                                        title                                              size  lastUpdated          downloadCount  voteCount  usabilityRating  \n",
            "---------------------------------------------------------  ------------------------------------------------  -----  -------------------  -------------  ---------  ---------------  \n",
            "joebeachcapital/chocolate-ratings                          Chocolate Ratings                                  64KB  2024-02-12 00:52:44           1120         26  1.0              \n",
            "nelgiriyewithana/apple-quality                             Apple Quality                                     170KB  2024-01-11 14:31:07          14187        325  1.0              \n",
            "joebeachcapital/valentines-day-consumer-data               Valentine's Day Consumer Data                       1KB  2024-02-12 00:21:31           1131         29  1.0              \n",
            "imyjoshua/average-time-spent-by-a-user-on-social-media     Average Time Spent By A User On Social Media       11KB  2024-01-18 10:18:03           2067         31  1.0              \n",
            "nelgiriyewithana/emotions                                  Emotions                                           16MB  2024-02-05 16:01:39           1541         68  1.0              \n",
            "agarwalyashhh/best-selling-books                           Best Selling Books                                  9KB  2024-02-08 14:37:00            876         23  1.0              \n",
            "kanchana1990/apple-music-dataset-10000-tracks-uncovered    🎶 Song Dataset: 10,000 Apple Music Tracks         937KB  2024-02-11 18:20:15            389         24  0.9411765        \n",
            "kanchana1990/2024-amazon-best-sellers-top-valentine-gifts  2024 Amazon Best Sellers: Top Valentine Gifts 🎯💘   25KB  2024-02-06 18:49:26           1155         37  1.0              \n",
            "jaidalmotra/vehicle-speed-data                             Vehicle Speed Data                                 33MB  2024-02-10 08:52:18            451         28  0.88235295       \n",
            "rrkcoder/swiggy-restaurants-dataset                        Swiggy Restaurant's Dataset                         3MB  2024-02-10 16:49:50            852         48  1.0              \n",
            "shiivvvaam/most-watched-movies-and-tv-shows                Most Watched Movies and TV Shows                    1MB  2024-02-04 19:19:18           2033         57  1.0              \n",
            "shiivvvaam/bitcoin-historical-data                         Bitcoin Historical Data                            95KB  2024-02-09 17:37:27            510         34  1.0              \n",
            "bhavikjikadara/loan-status-prediction                      Loan Status Prediction                              5KB  2024-02-02 13:27:20           1885         45  1.0              \n",
            "kanchana1990/texas-real-estate-trends-2024-500-listings    Texas Real Estate Trends 2024: 500 Listings 🏠     144KB  2024-02-10 03:05:56            330         22  1.0              \n",
            "shiivvvaam/top-youtuber-worldwide                          Top YouTubers Worldwide                            83KB  2024-02-05 09:33:23           1373         56  1.0              \n",
            "missionjee/car-sales-report                                Car Sales Report                                  657KB  2024-01-20 20:11:42           4315         68  1.0              \n",
            "hummaamqaasim/jobs-in-data                                 Jobs and Salaries in Data Science                  76KB  2023-12-25 20:03:32          18019        295  1.0              \n",
            "cdeotte/brain-spectrograms                                 Brain-Spectrograms                                  3GB  2024-01-13 03:25:31           1129        186  0.625            \n",
            "alihasnainch/fruits-dataset-for-classification             Fruits Dataset for Classification                  14MB  2024-01-31 15:48:14            945         27  0.875            \n",
            "tejpal123/human-disease-prediction-dataset                 Human Disease Prediction Dataset🔅                  30KB  2024-02-04 11:46:53           1121         29  0.7058824        \n"
          ]
        }
      ]
    },
    {
      "cell_type": "code",
      "source": [
        "!kaggle datasets download -d thoughtvector/customer-support-on-twitter"
      ],
      "metadata": {
        "colab": {
          "base_uri": "https://localhost:8080/"
        },
        "id": "okpAdjZBG2ck",
        "outputId": "7e563018-04cb-415a-a7f5-81b91ed36868"
      },
      "execution_count": null,
      "outputs": [
        {
          "output_type": "stream",
          "name": "stdout",
          "text": [
            "Downloading customer-support-on-twitter.zip to /content\n",
            " 98% 166M/169M [00:05<00:00, 38.9MB/s]\n",
            "100% 169M/169M [00:05<00:00, 33.1MB/s]\n"
          ]
        }
      ]
    },
    {
      "cell_type": "code",
      "source": [
        "!unzip /content/customer-support-on-twitter.zip"
      ],
      "metadata": {
        "colab": {
          "base_uri": "https://localhost:8080/"
        },
        "id": "6l75iYMEG9cy",
        "outputId": "ab68bd77-501a-4729-ae57-928816a2fea6"
      },
      "execution_count": null,
      "outputs": [
        {
          "output_type": "stream",
          "name": "stdout",
          "text": [
            "Archive:  /content/customer-support-on-twitter.zip\n",
            "  inflating: sample.csv              \n",
            "  inflating: twcs/twcs.csv           \n"
          ]
        }
      ]
    },
    {
      "cell_type": "code",
      "source": [
        "import pandas as pd\n",
        "import numpy as np\n",
        "import matplotlib.pyplot as plt"
      ],
      "metadata": {
        "id": "UY1lFy3PHEHT"
      },
      "execution_count": null,
      "outputs": []
    },
    {
      "cell_type": "code",
      "source": [
        "#NLTK, Spacy"
      ],
      "metadata": {
        "id": "G9-CKoc4HGuu"
      },
      "execution_count": null,
      "outputs": []
    },
    {
      "cell_type": "code",
      "source": [
        "df=pd.read_csv('/content/sample.csv')"
      ],
      "metadata": {
        "id": "HLhIWlBgHKk_"
      },
      "execution_count": null,
      "outputs": []
    },
    {
      "cell_type": "code",
      "source": [
        "df"
      ],
      "metadata": {
        "colab": {
          "base_uri": "https://localhost:8080/",
          "height": 982
        },
        "id": "H46kAyKpHPFO",
        "outputId": "8961f051-b5eb-4327-d388-1609bdde3eea"
      },
      "execution_count": null,
      "outputs": [
        {
          "output_type": "execute_result",
          "data": {
            "text/plain": [
              "    tweet_id     author_id  inbound                      created_at  \\\n",
              "0     119237        105834     True  Wed Oct 11 06:55:44 +0000 2017   \n",
              "1     119238  ChaseSupport    False  Wed Oct 11 13:25:49 +0000 2017   \n",
              "2     119239        105835     True  Wed Oct 11 13:00:09 +0000 2017   \n",
              "3     119240  VirginTrains    False  Tue Oct 10 15:16:08 +0000 2017   \n",
              "4     119241        105836     True  Tue Oct 10 15:17:21 +0000 2017   \n",
              "..       ...           ...      ...                             ...   \n",
              "88    119330        105859     True  Wed Oct 11 13:50:42 +0000 2017   \n",
              "89    119331        105860     True  Wed Oct 11 13:47:14 +0000 2017   \n",
              "90    119332         Tesco    False  Wed Oct 11 13:34:06 +0000 2017   \n",
              "91    119333        105861     True  Wed Oct 11 14:05:18 +0000 2017   \n",
              "92    119335         Tesco    False  Wed Oct 11 15:38:07 +0000 2017   \n",
              "\n",
              "                                                 text response_tweet_id  \\\n",
              "0   @AppleSupport causing the reply to be disregar...            119236   \n",
              "1   @105835 Your business means a lot to us. Pleas...               NaN   \n",
              "2   @76328 I really hope you all change but I'm su...            119238   \n",
              "3   @105836 LiveChat is online at the moment - htt...            119241   \n",
              "4   @VirginTrains see attached error message. I've...            119243   \n",
              "..                                                ...               ...   \n",
              "88  @105860 I wish Amazon had an option of where I...            119329   \n",
              "89  They reschedule my shit for tomorrow https://t...            119330   \n",
              "90  @105861 Hey Sara, sorry to hear of the issues ...            119333   \n",
              "91  @Tesco bit of both - finding the layout cumber...     119335,119336   \n",
              "92  @105861 If that doesn't help please DM your fu...               NaN   \n",
              "\n",
              "    in_response_to_tweet_id  \n",
              "0                       NaN  \n",
              "1                  119239.0  \n",
              "2                       NaN  \n",
              "3                  119242.0  \n",
              "4                  119240.0  \n",
              "..                      ...  \n",
              "88                 119331.0  \n",
              "89                      NaN  \n",
              "90                 119334.0  \n",
              "91                 119332.0  \n",
              "92                 119333.0  \n",
              "\n",
              "[93 rows x 7 columns]"
            ],
            "text/html": [
              "\n",
              "  <div id=\"df-53b1ef95-b054-4e1b-be7f-fc121d9c9258\" class=\"colab-df-container\">\n",
              "    <div>\n",
              "<style scoped>\n",
              "    .dataframe tbody tr th:only-of-type {\n",
              "        vertical-align: middle;\n",
              "    }\n",
              "\n",
              "    .dataframe tbody tr th {\n",
              "        vertical-align: top;\n",
              "    }\n",
              "\n",
              "    .dataframe thead th {\n",
              "        text-align: right;\n",
              "    }\n",
              "</style>\n",
              "<table border=\"1\" class=\"dataframe\">\n",
              "  <thead>\n",
              "    <tr style=\"text-align: right;\">\n",
              "      <th></th>\n",
              "      <th>tweet_id</th>\n",
              "      <th>author_id</th>\n",
              "      <th>inbound</th>\n",
              "      <th>created_at</th>\n",
              "      <th>text</th>\n",
              "      <th>response_tweet_id</th>\n",
              "      <th>in_response_to_tweet_id</th>\n",
              "    </tr>\n",
              "  </thead>\n",
              "  <tbody>\n",
              "    <tr>\n",
              "      <th>0</th>\n",
              "      <td>119237</td>\n",
              "      <td>105834</td>\n",
              "      <td>True</td>\n",
              "      <td>Wed Oct 11 06:55:44 +0000 2017</td>\n",
              "      <td>@AppleSupport causing the reply to be disregar...</td>\n",
              "      <td>119236</td>\n",
              "      <td>NaN</td>\n",
              "    </tr>\n",
              "    <tr>\n",
              "      <th>1</th>\n",
              "      <td>119238</td>\n",
              "      <td>ChaseSupport</td>\n",
              "      <td>False</td>\n",
              "      <td>Wed Oct 11 13:25:49 +0000 2017</td>\n",
              "      <td>@105835 Your business means a lot to us. Pleas...</td>\n",
              "      <td>NaN</td>\n",
              "      <td>119239.0</td>\n",
              "    </tr>\n",
              "    <tr>\n",
              "      <th>2</th>\n",
              "      <td>119239</td>\n",
              "      <td>105835</td>\n",
              "      <td>True</td>\n",
              "      <td>Wed Oct 11 13:00:09 +0000 2017</td>\n",
              "      <td>@76328 I really hope you all change but I'm su...</td>\n",
              "      <td>119238</td>\n",
              "      <td>NaN</td>\n",
              "    </tr>\n",
              "    <tr>\n",
              "      <th>3</th>\n",
              "      <td>119240</td>\n",
              "      <td>VirginTrains</td>\n",
              "      <td>False</td>\n",
              "      <td>Tue Oct 10 15:16:08 +0000 2017</td>\n",
              "      <td>@105836 LiveChat is online at the moment - htt...</td>\n",
              "      <td>119241</td>\n",
              "      <td>119242.0</td>\n",
              "    </tr>\n",
              "    <tr>\n",
              "      <th>4</th>\n",
              "      <td>119241</td>\n",
              "      <td>105836</td>\n",
              "      <td>True</td>\n",
              "      <td>Tue Oct 10 15:17:21 +0000 2017</td>\n",
              "      <td>@VirginTrains see attached error message. I've...</td>\n",
              "      <td>119243</td>\n",
              "      <td>119240.0</td>\n",
              "    </tr>\n",
              "    <tr>\n",
              "      <th>...</th>\n",
              "      <td>...</td>\n",
              "      <td>...</td>\n",
              "      <td>...</td>\n",
              "      <td>...</td>\n",
              "      <td>...</td>\n",
              "      <td>...</td>\n",
              "      <td>...</td>\n",
              "    </tr>\n",
              "    <tr>\n",
              "      <th>88</th>\n",
              "      <td>119330</td>\n",
              "      <td>105859</td>\n",
              "      <td>True</td>\n",
              "      <td>Wed Oct 11 13:50:42 +0000 2017</td>\n",
              "      <td>@105860 I wish Amazon had an option of where I...</td>\n",
              "      <td>119329</td>\n",
              "      <td>119331.0</td>\n",
              "    </tr>\n",
              "    <tr>\n",
              "      <th>89</th>\n",
              "      <td>119331</td>\n",
              "      <td>105860</td>\n",
              "      <td>True</td>\n",
              "      <td>Wed Oct 11 13:47:14 +0000 2017</td>\n",
              "      <td>They reschedule my shit for tomorrow https://t...</td>\n",
              "      <td>119330</td>\n",
              "      <td>NaN</td>\n",
              "    </tr>\n",
              "    <tr>\n",
              "      <th>90</th>\n",
              "      <td>119332</td>\n",
              "      <td>Tesco</td>\n",
              "      <td>False</td>\n",
              "      <td>Wed Oct 11 13:34:06 +0000 2017</td>\n",
              "      <td>@105861 Hey Sara, sorry to hear of the issues ...</td>\n",
              "      <td>119333</td>\n",
              "      <td>119334.0</td>\n",
              "    </tr>\n",
              "    <tr>\n",
              "      <th>91</th>\n",
              "      <td>119333</td>\n",
              "      <td>105861</td>\n",
              "      <td>True</td>\n",
              "      <td>Wed Oct 11 14:05:18 +0000 2017</td>\n",
              "      <td>@Tesco bit of both - finding the layout cumber...</td>\n",
              "      <td>119335,119336</td>\n",
              "      <td>119332.0</td>\n",
              "    </tr>\n",
              "    <tr>\n",
              "      <th>92</th>\n",
              "      <td>119335</td>\n",
              "      <td>Tesco</td>\n",
              "      <td>False</td>\n",
              "      <td>Wed Oct 11 15:38:07 +0000 2017</td>\n",
              "      <td>@105861 If that doesn't help please DM your fu...</td>\n",
              "      <td>NaN</td>\n",
              "      <td>119333.0</td>\n",
              "    </tr>\n",
              "  </tbody>\n",
              "</table>\n",
              "<p>93 rows × 7 columns</p>\n",
              "</div>\n",
              "    <div class=\"colab-df-buttons\">\n",
              "\n",
              "  <div class=\"colab-df-container\">\n",
              "    <button class=\"colab-df-convert\" onclick=\"convertToInteractive('df-53b1ef95-b054-4e1b-be7f-fc121d9c9258')\"\n",
              "            title=\"Convert this dataframe to an interactive table.\"\n",
              "            style=\"display:none;\">\n",
              "\n",
              "  <svg xmlns=\"http://www.w3.org/2000/svg\" height=\"24px\" viewBox=\"0 -960 960 960\">\n",
              "    <path d=\"M120-120v-720h720v720H120Zm60-500h600v-160H180v160Zm220 220h160v-160H400v160Zm0 220h160v-160H400v160ZM180-400h160v-160H180v160Zm440 0h160v-160H620v160ZM180-180h160v-160H180v160Zm440 0h160v-160H620v160Z\"/>\n",
              "  </svg>\n",
              "    </button>\n",
              "\n",
              "  <style>\n",
              "    .colab-df-container {\n",
              "      display:flex;\n",
              "      gap: 12px;\n",
              "    }\n",
              "\n",
              "    .colab-df-convert {\n",
              "      background-color: #E8F0FE;\n",
              "      border: none;\n",
              "      border-radius: 50%;\n",
              "      cursor: pointer;\n",
              "      display: none;\n",
              "      fill: #1967D2;\n",
              "      height: 32px;\n",
              "      padding: 0 0 0 0;\n",
              "      width: 32px;\n",
              "    }\n",
              "\n",
              "    .colab-df-convert:hover {\n",
              "      background-color: #E2EBFA;\n",
              "      box-shadow: 0px 1px 2px rgba(60, 64, 67, 0.3), 0px 1px 3px 1px rgba(60, 64, 67, 0.15);\n",
              "      fill: #174EA6;\n",
              "    }\n",
              "\n",
              "    .colab-df-buttons div {\n",
              "      margin-bottom: 4px;\n",
              "    }\n",
              "\n",
              "    [theme=dark] .colab-df-convert {\n",
              "      background-color: #3B4455;\n",
              "      fill: #D2E3FC;\n",
              "    }\n",
              "\n",
              "    [theme=dark] .colab-df-convert:hover {\n",
              "      background-color: #434B5C;\n",
              "      box-shadow: 0px 1px 3px 1px rgba(0, 0, 0, 0.15);\n",
              "      filter: drop-shadow(0px 1px 2px rgba(0, 0, 0, 0.3));\n",
              "      fill: #FFFFFF;\n",
              "    }\n",
              "  </style>\n",
              "\n",
              "    <script>\n",
              "      const buttonEl =\n",
              "        document.querySelector('#df-53b1ef95-b054-4e1b-be7f-fc121d9c9258 button.colab-df-convert');\n",
              "      buttonEl.style.display =\n",
              "        google.colab.kernel.accessAllowed ? 'block' : 'none';\n",
              "\n",
              "      async function convertToInteractive(key) {\n",
              "        const element = document.querySelector('#df-53b1ef95-b054-4e1b-be7f-fc121d9c9258');\n",
              "        const dataTable =\n",
              "          await google.colab.kernel.invokeFunction('convertToInteractive',\n",
              "                                                    [key], {});\n",
              "        if (!dataTable) return;\n",
              "\n",
              "        const docLinkHtml = 'Like what you see? Visit the ' +\n",
              "          '<a target=\"_blank\" href=https://colab.research.google.com/notebooks/data_table.ipynb>data table notebook</a>'\n",
              "          + ' to learn more about interactive tables.';\n",
              "        element.innerHTML = '';\n",
              "        dataTable['output_type'] = 'display_data';\n",
              "        await google.colab.output.renderOutput(dataTable, element);\n",
              "        const docLink = document.createElement('div');\n",
              "        docLink.innerHTML = docLinkHtml;\n",
              "        element.appendChild(docLink);\n",
              "      }\n",
              "    </script>\n",
              "  </div>\n",
              "\n",
              "\n",
              "<div id=\"df-a110760b-c2b6-418b-8cc8-60a68a72bc6a\">\n",
              "  <button class=\"colab-df-quickchart\" onclick=\"quickchart('df-a110760b-c2b6-418b-8cc8-60a68a72bc6a')\"\n",
              "            title=\"Suggest charts\"\n",
              "            style=\"display:none;\">\n",
              "\n",
              "<svg xmlns=\"http://www.w3.org/2000/svg\" height=\"24px\"viewBox=\"0 0 24 24\"\n",
              "     width=\"24px\">\n",
              "    <g>\n",
              "        <path d=\"M19 3H5c-1.1 0-2 .9-2 2v14c0 1.1.9 2 2 2h14c1.1 0 2-.9 2-2V5c0-1.1-.9-2-2-2zM9 17H7v-7h2v7zm4 0h-2V7h2v10zm4 0h-2v-4h2v4z\"/>\n",
              "    </g>\n",
              "</svg>\n",
              "  </button>\n",
              "\n",
              "<style>\n",
              "  .colab-df-quickchart {\n",
              "      --bg-color: #E8F0FE;\n",
              "      --fill-color: #1967D2;\n",
              "      --hover-bg-color: #E2EBFA;\n",
              "      --hover-fill-color: #174EA6;\n",
              "      --disabled-fill-color: #AAA;\n",
              "      --disabled-bg-color: #DDD;\n",
              "  }\n",
              "\n",
              "  [theme=dark] .colab-df-quickchart {\n",
              "      --bg-color: #3B4455;\n",
              "      --fill-color: #D2E3FC;\n",
              "      --hover-bg-color: #434B5C;\n",
              "      --hover-fill-color: #FFFFFF;\n",
              "      --disabled-bg-color: #3B4455;\n",
              "      --disabled-fill-color: #666;\n",
              "  }\n",
              "\n",
              "  .colab-df-quickchart {\n",
              "    background-color: var(--bg-color);\n",
              "    border: none;\n",
              "    border-radius: 50%;\n",
              "    cursor: pointer;\n",
              "    display: none;\n",
              "    fill: var(--fill-color);\n",
              "    height: 32px;\n",
              "    padding: 0;\n",
              "    width: 32px;\n",
              "  }\n",
              "\n",
              "  .colab-df-quickchart:hover {\n",
              "    background-color: var(--hover-bg-color);\n",
              "    box-shadow: 0 1px 2px rgba(60, 64, 67, 0.3), 0 1px 3px 1px rgba(60, 64, 67, 0.15);\n",
              "    fill: var(--button-hover-fill-color);\n",
              "  }\n",
              "\n",
              "  .colab-df-quickchart-complete:disabled,\n",
              "  .colab-df-quickchart-complete:disabled:hover {\n",
              "    background-color: var(--disabled-bg-color);\n",
              "    fill: var(--disabled-fill-color);\n",
              "    box-shadow: none;\n",
              "  }\n",
              "\n",
              "  .colab-df-spinner {\n",
              "    border: 2px solid var(--fill-color);\n",
              "    border-color: transparent;\n",
              "    border-bottom-color: var(--fill-color);\n",
              "    animation:\n",
              "      spin 1s steps(1) infinite;\n",
              "  }\n",
              "\n",
              "  @keyframes spin {\n",
              "    0% {\n",
              "      border-color: transparent;\n",
              "      border-bottom-color: var(--fill-color);\n",
              "      border-left-color: var(--fill-color);\n",
              "    }\n",
              "    20% {\n",
              "      border-color: transparent;\n",
              "      border-left-color: var(--fill-color);\n",
              "      border-top-color: var(--fill-color);\n",
              "    }\n",
              "    30% {\n",
              "      border-color: transparent;\n",
              "      border-left-color: var(--fill-color);\n",
              "      border-top-color: var(--fill-color);\n",
              "      border-right-color: var(--fill-color);\n",
              "    }\n",
              "    40% {\n",
              "      border-color: transparent;\n",
              "      border-right-color: var(--fill-color);\n",
              "      border-top-color: var(--fill-color);\n",
              "    }\n",
              "    60% {\n",
              "      border-color: transparent;\n",
              "      border-right-color: var(--fill-color);\n",
              "    }\n",
              "    80% {\n",
              "      border-color: transparent;\n",
              "      border-right-color: var(--fill-color);\n",
              "      border-bottom-color: var(--fill-color);\n",
              "    }\n",
              "    90% {\n",
              "      border-color: transparent;\n",
              "      border-bottom-color: var(--fill-color);\n",
              "    }\n",
              "  }\n",
              "</style>\n",
              "\n",
              "  <script>\n",
              "    async function quickchart(key) {\n",
              "      const quickchartButtonEl =\n",
              "        document.querySelector('#' + key + ' button');\n",
              "      quickchartButtonEl.disabled = true;  // To prevent multiple clicks.\n",
              "      quickchartButtonEl.classList.add('colab-df-spinner');\n",
              "      try {\n",
              "        const charts = await google.colab.kernel.invokeFunction(\n",
              "            'suggestCharts', [key], {});\n",
              "      } catch (error) {\n",
              "        console.error('Error during call to suggestCharts:', error);\n",
              "      }\n",
              "      quickchartButtonEl.classList.remove('colab-df-spinner');\n",
              "      quickchartButtonEl.classList.add('colab-df-quickchart-complete');\n",
              "    }\n",
              "    (() => {\n",
              "      let quickchartButtonEl =\n",
              "        document.querySelector('#df-a110760b-c2b6-418b-8cc8-60a68a72bc6a button');\n",
              "      quickchartButtonEl.style.display =\n",
              "        google.colab.kernel.accessAllowed ? 'block' : 'none';\n",
              "    })();\n",
              "  </script>\n",
              "</div>\n",
              "\n",
              "  <div id=\"id_620ec903-7e8b-4bf2-af6f-05fb2f508fb0\">\n",
              "    <style>\n",
              "      .colab-df-generate {\n",
              "        background-color: #E8F0FE;\n",
              "        border: none;\n",
              "        border-radius: 50%;\n",
              "        cursor: pointer;\n",
              "        display: none;\n",
              "        fill: #1967D2;\n",
              "        height: 32px;\n",
              "        padding: 0 0 0 0;\n",
              "        width: 32px;\n",
              "      }\n",
              "\n",
              "      .colab-df-generate:hover {\n",
              "        background-color: #E2EBFA;\n",
              "        box-shadow: 0px 1px 2px rgba(60, 64, 67, 0.3), 0px 1px 3px 1px rgba(60, 64, 67, 0.15);\n",
              "        fill: #174EA6;\n",
              "      }\n",
              "\n",
              "      [theme=dark] .colab-df-generate {\n",
              "        background-color: #3B4455;\n",
              "        fill: #D2E3FC;\n",
              "      }\n",
              "\n",
              "      [theme=dark] .colab-df-generate:hover {\n",
              "        background-color: #434B5C;\n",
              "        box-shadow: 0px 1px 3px 1px rgba(0, 0, 0, 0.15);\n",
              "        filter: drop-shadow(0px 1px 2px rgba(0, 0, 0, 0.3));\n",
              "        fill: #FFFFFF;\n",
              "      }\n",
              "    </style>\n",
              "    <button class=\"colab-df-generate\" onclick=\"generateWithVariable('df')\"\n",
              "            title=\"Generate code using this dataframe.\"\n",
              "            style=\"display:none;\">\n",
              "\n",
              "  <svg xmlns=\"http://www.w3.org/2000/svg\" height=\"24px\"viewBox=\"0 0 24 24\"\n",
              "       width=\"24px\">\n",
              "    <path d=\"M7,19H8.4L18.45,9,17,7.55,7,17.6ZM5,21V16.75L18.45,3.32a2,2,0,0,1,2.83,0l1.4,1.43a1.91,1.91,0,0,1,.58,1.4,1.91,1.91,0,0,1-.58,1.4L9.25,21ZM18.45,9,17,7.55Zm-12,3A5.31,5.31,0,0,0,4.9,8.1,5.31,5.31,0,0,0,1,6.5,5.31,5.31,0,0,0,4.9,4.9,5.31,5.31,0,0,0,6.5,1,5.31,5.31,0,0,0,8.1,4.9,5.31,5.31,0,0,0,12,6.5,5.46,5.46,0,0,0,6.5,12Z\"/>\n",
              "  </svg>\n",
              "    </button>\n",
              "    <script>\n",
              "      (() => {\n",
              "      const buttonEl =\n",
              "        document.querySelector('#id_620ec903-7e8b-4bf2-af6f-05fb2f508fb0 button.colab-df-generate');\n",
              "      buttonEl.style.display =\n",
              "        google.colab.kernel.accessAllowed ? 'block' : 'none';\n",
              "\n",
              "      buttonEl.onclick = () => {\n",
              "        google.colab.notebook.generateWithVariable('df');\n",
              "      }\n",
              "      })();\n",
              "    </script>\n",
              "  </div>\n",
              "\n",
              "    </div>\n",
              "  </div>\n"
            ],
            "application/vnd.google.colaboratory.intrinsic+json": {
              "type": "dataframe",
              "variable_name": "df",
              "summary": "{\n  \"name\": \"df\",\n  \"rows\": 93,\n  \"fields\": [\n    {\n      \"column\": \"tweet_id\",\n      \"properties\": {\n        \"dtype\": \"number\",\n        \"std\": 28,\n        \"min\": 119237,\n        \"max\": 119335,\n        \"samples\": [\n          119280,\n          119256,\n          119295\n        ],\n        \"num_unique_values\": 93,\n        \"semantic_type\": \"\",\n        \"description\": \"\"\n      }\n    },\n    {\n      \"column\": \"author_id\",\n      \"properties\": {\n        \"dtype\": \"category\",\n        \"samples\": [\n          \"105849\",\n          \"105842\",\n          \"105839\"\n        ],\n        \"num_unique_values\": 42,\n        \"semantic_type\": \"\",\n        \"description\": \"\"\n      }\n    },\n    {\n      \"column\": \"inbound\",\n      \"properties\": {\n        \"dtype\": \"boolean\",\n        \"samples\": [\n          false,\n          true\n        ],\n        \"num_unique_values\": 2,\n        \"semantic_type\": \"\",\n        \"description\": \"\"\n      }\n    },\n    {\n      \"column\": \"created_at\",\n      \"properties\": {\n        \"dtype\": \"object\",\n        \"min\": \"Thu Oct 12 10:25:35 +0000 2017\",\n        \"max\": \"Wed Oct 11 16:28:34 +0000 2017\",\n        \"samples\": [\n          \"Wed Oct 11 07:13:34 +0000 2017\",\n          \"Wed Oct 11 12:53:29 +0000 2017\"\n        ],\n        \"num_unique_values\": 93,\n        \"semantic_type\": \"\",\n        \"description\": \"\"\n      }\n    },\n    {\n      \"column\": \"text\",\n      \"properties\": {\n        \"dtype\": \"string\",\n        \"samples\": [\n          \"So the new @76099 update does not let me listen to music and go on whatsapp at the same time?!?\",\n          \"@76495 @91226 Please help! Spotify Premium skipping through songs constantly on android tablet &amp; bluetooth speaker. Tried everything!\"\n        ],\n        \"num_unique_values\": 93,\n        \"semantic_type\": \"\",\n        \"description\": \"\"\n      }\n    },\n    {\n      \"column\": \"response_tweet_id\",\n      \"properties\": {\n        \"dtype\": \"string\",\n        \"samples\": [\n          \"119320\",\n          \"119327\"\n        ],\n        \"num_unique_values\": 65,\n        \"semantic_type\": \"\",\n        \"description\": \"\"\n      }\n    },\n    {\n      \"column\": \"in_response_to_tweet_id\",\n      \"properties\": {\n        \"dtype\": \"number\",\n        \"std\": 28.91079495567826,\n        \"min\": 119239.0,\n        \"max\": 119334.0,\n        \"samples\": [\n          119318.0,\n          119331.0\n        ],\n        \"num_unique_values\": 66,\n        \"semantic_type\": \"\",\n        \"description\": \"\"\n      }\n    }\n  ]\n}"
            }
          },
          "metadata": {},
          "execution_count": 14
        }
      ]
    },
    {
      "cell_type": "code",
      "source": [
        "df[\"text\"]"
      ],
      "metadata": {
        "colab": {
          "base_uri": "https://localhost:8080/"
        },
        "id": "pqbQMCuzHUvH",
        "outputId": "b79aa088-27de-4df2-9913-f7beffeccb54"
      },
      "execution_count": null,
      "outputs": [
        {
          "output_type": "execute_result",
          "data": {
            "text/plain": [
              "0     @AppleSupport causing the reply to be disregar...\n",
              "1     @105835 Your business means a lot to us. Pleas...\n",
              "2     @76328 I really hope you all change but I'm su...\n",
              "3     @105836 LiveChat is online at the moment - htt...\n",
              "4     @VirginTrains see attached error message. I've...\n",
              "                            ...                        \n",
              "88    @105860 I wish Amazon had an option of where I...\n",
              "89    They reschedule my shit for tomorrow https://t...\n",
              "90    @105861 Hey Sara, sorry to hear of the issues ...\n",
              "91    @Tesco bit of both - finding the layout cumber...\n",
              "92    @105861 If that doesn't help please DM your fu...\n",
              "Name: text, Length: 93, dtype: object"
            ]
          },
          "metadata": {},
          "execution_count": 18
        }
      ]
    },
    {
      "cell_type": "code",
      "source": [
        "text = df[\"text\"].str.lower()\n",
        "print(text)"
      ],
      "metadata": {
        "colab": {
          "base_uri": "https://localhost:8080/"
        },
        "id": "rhgTmYElHljd",
        "outputId": "93277cce-aa69-4ef8-93a1-53ed4adaeb94"
      },
      "execution_count": null,
      "outputs": [
        {
          "output_type": "stream",
          "name": "stdout",
          "text": [
            "0     @applesupport causing the reply to be disregar...\n",
            "1     @105835 your business means a lot to us. pleas...\n",
            "2     @76328 i really hope you all change but i'm su...\n",
            "3     @105836 livechat is online at the moment - htt...\n",
            "4     @virgintrains see attached error message. i've...\n",
            "                            ...                        \n",
            "88    @105860 i wish amazon had an option of where i...\n",
            "89    they reschedule my shit for tomorrow https://t...\n",
            "90    @105861 hey sara, sorry to hear of the issues ...\n",
            "91    @tesco bit of both - finding the layout cumber...\n",
            "92    @105861 if that doesn't help please dm your fu...\n",
            "Name: text, Length: 93, dtype: object\n"
          ]
        }
      ]
    },
    {
      "cell_type": "code",
      "source": [],
      "metadata": {
        "id": "5egNU7n7ItTM"
      },
      "execution_count": null,
      "outputs": []
    },
    {
      "cell_type": "code",
      "source": [
        "import re\n",
        "#Supprimer la ponctuation\n",
        "text = df[\"text\"].apply(lambda x: re.sub(r'[^\\w\\s]', '', x))\n",
        "print(text)"
      ],
      "metadata": {
        "colab": {
          "base_uri": "https://localhost:8080/"
        },
        "id": "37EsjPIfI338",
        "outputId": "291f17d9-6479-457f-f709-b5b3569d6962"
      },
      "execution_count": null,
      "outputs": [
        {
          "output_type": "stream",
          "name": "stdout",
          "text": [
            "0     AppleSupport causing the reply to be disregard...\n",
            "1     105835 Your business means a lot to us Please ...\n",
            "2     76328 I really hope you all change but Im sure...\n",
            "3     105836 LiveChat is online at the moment  https...\n",
            "4     VirginTrains see attached error message Ive tr...\n",
            "                            ...                        \n",
            "88    105860 I wish Amazon had an option of where I ...\n",
            "89    They reschedule my shit for tomorrow httpstcoR...\n",
            "90    105861 Hey Sara sorry to hear of the issues yo...\n",
            "91    Tesco bit of both  finding the layout cumberso...\n",
            "92    105861 If that doesnt help please DM your full...\n",
            "Name: text, Length: 93, dtype: object\n"
          ]
        }
      ]
    },
    {
      "cell_type": "code",
      "source": [
        "import nltk\n",
        "from nltk.corpus import stopwords\n",
        "from nltk.tokenize import word_tokenize\n",
        "# Assurez-vous d'avoir téléchargé les ressources NLTK nécessaires\n",
        "nltk.download('punkt')\n",
        "nltk.download('stopwords')\n",
        "# Supposons que df est votre DataFrame contenant la colonne \"text\"\n",
        "stop_words = set(stopwords.words('english'))\n",
        "\n",
        "# Fonction pour supprimer les stopwords\n",
        "def remove_stopwords(text):\n",
        "    word_tokens = word_tokenize(text)\n",
        "    filtered_text = [word for word in word_tokens if word.lower() not in stop_words]\n",
        "    return ' '.join(filtered_text)\n",
        "\n",
        "# Appliquer la fonction à chaque élément de la colonne \"text\"\n",
        "text= df['text'].apply(remove_stopwords)\n",
        "print(text)"
      ],
      "metadata": {
        "colab": {
          "base_uri": "https://localhost:8080/"
        },
        "id": "PrOyXDZ9Kj1r",
        "outputId": "97e96683-df87-4cf2-b32a-488fade331f8"
      },
      "execution_count": null,
      "outputs": [
        {
          "output_type": "stream",
          "name": "stdout",
          "text": [
            "0     @ AppleSupport causing reply disregarded tappe...\n",
            "1     @ 105835 business means lot us . Please DM nam...\n",
            "2     @ 76328 really hope change 'm sure wo n't ! n't !\n",
            "3     @ 105836 LiveChat online moment - https : //t....\n",
            "4     @ VirginTrains see attached error message . 'v...\n",
            "                            ...                        \n",
            "88    @ 105860 wish Amazon option get shipped ups st...\n",
            "89    reschedule shit tomorrow https : //t.co/RsvZcT...\n",
            "90    @ 105861 Hey Sara , sorry hear issues , ask 's...\n",
            "91    @ Tesco bit - finding layout cumbersome removi...\n",
            "92    @ 105861 n't help please DM full name , addres...\n",
            "Name: text, Length: 93, dtype: object\n"
          ]
        },
        {
          "output_type": "stream",
          "name": "stderr",
          "text": [
            "[nltk_data] Downloading package punkt to /root/nltk_data...\n",
            "[nltk_data]   Package punkt is already up-to-date!\n",
            "[nltk_data] Downloading package stopwords to /root/nltk_data...\n",
            "[nltk_data]   Package stopwords is already up-to-date!\n"
          ]
        }
      ]
    },
    {
      "cell_type": "code",
      "source": [
        "from nltk.corpus import stopwords\n",
        "from nltk.tokenize import word_tokenize\n",
        "\n",
        "# Assurez-vous d'avoir téléchargé les ressources NLTK nécessaires\n",
        "nltk.download('punkt')\n",
        "nltk.download('stopwords')\n",
        "\n",
        "# Supposons que df est votre DataFrame contenant la colonne \"text\"\n",
        "stop_words = set(stopwords.words('english'))\n",
        "\n",
        "# Fonction pour supprimer les mots extrêmement fréquents\n",
        "def remove_common_words(text, freq_threshold=0.05):\n",
        "    word_tokens = word_tokenize(text)\n",
        "    # Compter la fréquence des mots\n",
        "    word_freq = nltk.FreqDist(word_tokens)\n",
        "    # Calculer le nombre total de mots\n",
        "    total_words = len(word_tokens)\n",
        "    # Identifier les mots extrêmement fréquents\n",
        "    common_words = [word for word, freq in word_freq.items() if freq / total_words > freq_threshold]\n",
        "    filtered_text = [word for word in word_tokens if word not in common_words]\n",
        "    return ' '.join(filtered_text)\n",
        "text= df['text'].apply(remove_common_words)\n",
        "print(text)"
      ],
      "metadata": {
        "colab": {
          "base_uri": "https://localhost:8080/"
        },
        "id": "z6IIMV5QM4WN",
        "outputId": "2dbe47d4-7a5e-4213-e36b-85313594b67f"
      },
      "execution_count": null,
      "outputs": [
        {
          "output_type": "stream",
          "name": "stdout",
          "text": [
            "0                                                      \n",
            "1     @ 105835 business means lot us Please DM name ...\n",
            "2                                                      \n",
            "3     @ 105836 LiveChat online moment - https : //t....\n",
            "4                                                      \n",
            "                            ...                        \n",
            "88                                                     \n",
            "89                                                     \n",
            "90                                                     \n",
            "91    @ Tesco bit finding layout cumbersome removing...\n",
            "92    @ 105861 n't help please DM full name , addres...\n",
            "Name: text, Length: 93, dtype: object\n"
          ]
        },
        {
          "output_type": "stream",
          "name": "stderr",
          "text": [
            "[nltk_data] Downloading package punkt to /root/nltk_data...\n",
            "[nltk_data]   Package punkt is already up-to-date!\n",
            "[nltk_data] Downloading package stopwords to /root/nltk_data...\n",
            "[nltk_data]   Package stopwords is already up-to-date!\n"
          ]
        }
      ]
    },
    {
      "cell_type": "code",
      "source": [
        "# Fonction pour supprimer les mots extrêmement rares\n",
        "def remove_rare_words(text, rare_threshold=0.0001):\n",
        "    word_tokens = word_tokenize(text)\n",
        "    # Compter la fréquence des mots\n",
        "    word_freq = nltk.FreqDist(word_tokens)\n",
        "    # Calculer le nombre total de mots\n",
        "    total_words = len(word_tokens)\n",
        "    # Identifier les mots extrêmement rares\n",
        "    rare_words = [word for word, freq in word_freq.items() if freq / total_words < rare_threshold]\n",
        "    filtered_text = [word for word in word_tokens if word not in rare_words and word.lower() not in stop_words]\n",
        "    return ' '.join(filtered_text)\n",
        "text = df['text'].apply(remove_rare_words)\n",
        "print(text)"
      ],
      "metadata": {
        "colab": {
          "base_uri": "https://localhost:8080/"
        },
        "id": "nod9kUv9NExn",
        "outputId": "bada61f9-1fcf-4e88-907a-93033ce771b8"
      },
      "execution_count": null,
      "outputs": [
        {
          "output_type": "stream",
          "name": "stdout",
          "text": [
            "0     @ AppleSupport causing reply disregarded tappe...\n",
            "1     @ 105835 business means lot us . Please DM nam...\n",
            "2     @ 76328 really hope change 'm sure wo n't ! n't !\n",
            "3     @ 105836 LiveChat online moment - https : //t....\n",
            "4     @ VirginTrains see attached error message . 'v...\n",
            "                            ...                        \n",
            "88    @ 105860 wish Amazon option get shipped ups st...\n",
            "89    reschedule shit tomorrow https : //t.co/RsvZcT...\n",
            "90    @ 105861 Hey Sara , sorry hear issues , ask 's...\n",
            "91    @ Tesco bit - finding layout cumbersome removi...\n",
            "92    @ 105861 n't help please DM full name , addres...\n",
            "Name: text, Length: 93, dtype: object\n"
          ]
        }
      ]
    },
    {
      "cell_type": "code",
      "source": [
        "import nltk\n",
        "from nltk.tokenize import word_tokenize\n",
        "from nltk.stem import PorterStemmer\n",
        "\n",
        "# Assurez-vous d'avoir téléchargé les ressources NLTK nécessaires\n",
        "nltk.download('punkt')\n",
        "\n",
        "# Supposons que df est votre DataFrame contenant la colonne \"text\"\n",
        "stemmer = PorterStemmer()\n",
        "\n",
        "# Fonction pour appliquer le stemming à chaque mot\n",
        "def apply_stemming(text):\n",
        "    return ' '.join([stemmer.stem(word) for word in word_tokenize(text)])\n",
        "\n",
        "# Appliquer la fonction à chaque élément de la colonne \"text\"\n",
        "text = df['text'].apply(apply_stemming)\n",
        "print(text)"
      ],
      "metadata": {
        "colab": {
          "base_uri": "https://localhost:8080/"
        },
        "id": "L8Oy8iPwNXQ6",
        "outputId": "3ee30b41-0bbf-4286-9739-65c7a3386e2e"
      },
      "execution_count": null,
      "outputs": [
        {
          "output_type": "stream",
          "name": "stdout",
          "text": [
            "0     @ applesupport caus repli disregard tap notif ...\n",
            "1     @ 105835 busi mean lot us . pleas dm name , zi...\n",
            "2      @ 76328 realli hope chang 'm sure wo n't ! n't !\n",
            "3     @ 105836 livechat onlin moment - http : //t.co...\n",
            "4     @ virgintrain see attach error messag . 've tr...\n",
            "                            ...                        \n",
            "88    @ 105860 wish amazon option get ship up store ...\n",
            "89     reschedul shit tomorrow http : //t.co/rsvzct982t\n",
            "90    @ 105861 hey sara , sorri hear issu , ask 's l...\n",
            "91    @ tesco bit - find layout cumbersom remov item...\n",
            "92    @ 105861 n't help pleas dm full name , address...\n",
            "Name: text, Length: 93, dtype: object\n"
          ]
        },
        {
          "output_type": "stream",
          "name": "stderr",
          "text": [
            "[nltk_data] Downloading package punkt to /root/nltk_data...\n",
            "[nltk_data]   Package punkt is already up-to-date!\n"
          ]
        }
      ]
    },
    {
      "cell_type": "code",
      "source": [
        "import nltk\n",
        "from nltk.tokenize import word_tokenize\n",
        "from nltk.stem import WordNetLemmatizer\n",
        "\n",
        "# Assurez-vous d'avoir téléchargé les ressources NLTK nécessaires\n",
        "nltk.download('punkt')\n",
        "nltk.download('wordnet')\n",
        "\n",
        "# Supposons que df est votre DataFrame contenant la colonne \"text\"\n",
        "lemmatizer = WordNetLemmatizer()\n",
        "\n",
        "# Fonction pour appliquer la lemmatisation à chaque mot\n",
        "def apply_lemmatization(text):\n",
        "    return ' '.join([lemmatizer.lemmatize(word) for word in word_tokenize(text)])\n",
        "\n",
        "# Appliquer la fonction à chaque élément de la colonne \"text\"\n",
        "text = df['text'].apply(apply_lemmatization)\n",
        "print(text)"
      ],
      "metadata": {
        "colab": {
          "base_uri": "https://localhost:8080/"
        },
        "id": "jzTdPUk4Nvvq",
        "outputId": "7f6c3dab-e131-4cf7-8232-a07088568745"
      },
      "execution_count": null,
      "outputs": [
        {
          "output_type": "stream",
          "name": "stderr",
          "text": [
            "[nltk_data] Downloading package punkt to /root/nltk_data...\n",
            "[nltk_data]   Package punkt is already up-to-date!\n",
            "[nltk_data] Downloading package wordnet to /root/nltk_data...\n"
          ]
        },
        {
          "output_type": "stream",
          "name": "stdout",
          "text": [
            "0     @ AppleSupport causing reply disregarded tappe...\n",
            "1     @ 105835 business mean lot u . Please DM name ...\n",
            "2     @ 76328 really hope change 'm sure wo n't ! n't !\n",
            "3     @ 105836 LiveChat online moment - http : //t.c...\n",
            "4     @ VirginTrains see attached error message . 'v...\n",
            "                            ...                        \n",
            "88    @ 105860 wish Amazon option get shipped ups st...\n",
            "89    reschedule shit tomorrow http : //t.co/RsvZcT982t\n",
            "90    @ 105861 Hey Sara , sorry hear issue , ask 's ...\n",
            "91    @ Tesco bit - finding layout cumbersome removi...\n",
            "92    @ 105861 n't help please DM full name , addres...\n",
            "Name: text, Length: 93, dtype: object\n"
          ]
        }
      ]
    },
    {
      "cell_type": "code",
      "source": [
        "import re\n",
        "\n",
        "# Supposons que df est votre DataFrame contenant la colonne \"text\"\n",
        "\n",
        "# Fonction pour nettoyer le texte\n",
        "def clean_text(text):\n",
        "    # Supprimer les émojis et émoticônes\n",
        "    emoji_pattern = re.compile(\"[\"\n",
        "                               u\"\\U0001F600-\\U0001F64F\"  # Emojis\n",
        "                               u\"\\U0001F300-\\U0001F5FF\"  # Symboles & pictogrammes\n",
        "                               u\"\\U0001F680-\\U0001F6FF\"  # Transport & symboles map\n",
        "                               u\"\\U0001F1E0-\\U0001F1FF\"  # Drapeaux (iOS)\n",
        "                               u\"\\U00002500-\\U00002BEF\"  # Chinois, japonais, coréen unifiés\n",
        "                               u\"\\U00002702-\\U000027B0\"\n",
        "                               u\"\\U00002702-\\U000027B0\"\n",
        "                               u\"\\U000024C2-\\U0001F251\"\n",
        "                               u\"\\U0001f926-\\U0001f937\"\n",
        "                               u\"\\U00010000-\\U0010ffff\"\n",
        "                               u\"\\u2640-\\u2642\"\n",
        "                               u\"\\u2600-\\u2B55\"\n",
        "                               u\"\\u200d\"\n",
        "                               u\"\\u23cf\"\n",
        "                               u\"\\u23e9\"\n",
        "                               u\"\\u231a\"\n",
        "                               u\"\\ufe0f\"  # Variant sélecteur (combinaison de texte emoji)\n",
        "                               u\"\\u3030\"\n",
        "                               \"]+\", flags=re.UNICODE)\n",
        "    text = emoji_pattern.sub(r'', text)\n",
        "\n",
        "    # Supprimer les URL\n",
        "    url_pattern = re.compile(r'https?://\\S+|www\\.\\S+')\n",
        "    text = url_pattern.sub(r'', text)\n",
        "\n",
        "    # Supprimer les balises HTML\n",
        "    html_pattern = re.compile(r'<.*?>')\n",
        "    text = html_pattern.sub(r'', text)\n",
        "\n",
        "    return text\n",
        "\n",
        "# Appliquer la fonction de nettoyage à chaque élément de la colonne \"text\"\n",
        "text = df['text'].apply(clean_text)\n",
        "print(text)"
      ],
      "metadata": {
        "colab": {
          "base_uri": "https://localhost:8080/"
        },
        "id": "R6RY8DZSODKA",
        "outputId": "9516b377-6f0e-4c51-c441-61dcd5d961bd"
      },
      "execution_count": null,
      "outputs": [
        {
          "output_type": "stream",
          "name": "stdout",
          "text": [
            "0     @ AppleSupport causing reply disregarded tappe...\n",
            "1     @ 105835 business means lot us . Please DM nam...\n",
            "2     @ 76328 really hope change 'm sure wo n't ! n't !\n",
            "3     @ 105836 LiveChat online moment - https : //t....\n",
            "4     @ VirginTrains see attached error message . 'v...\n",
            "                            ...                        \n",
            "88    @ 105860 wish Amazon option get shipped ups st...\n",
            "89    reschedule shit tomorrow https : //t.co/RsvZcT...\n",
            "90    @ 105861 Hey Sara , sorry hear issues , ask 's...\n",
            "91    @ Tesco bit - finding layout cumbersome removi...\n",
            "92    @ 105861 n't help please DM full name , addres...\n",
            "Name: text, Length: 93, dtype: object\n"
          ]
        }
      ]
    },
    {
      "cell_type": "code",
      "source": [
        "import nltk\n",
        "from nltk.corpus import stopwords\n",
        "from nltk.tokenize import word_tokenize\n",
        "from nltk.stem import PorterStemmer, WordNetLemmatizer\n",
        "import re\n",
        "\n",
        "# Assurez-vous d'avoir téléchargé les ressources NLTK nécessaires\n",
        "nltk.download('punkt')\n",
        "nltk.download('stopwords')\n",
        "nltk.download('wordnet')\n",
        "\n",
        "# Supposons que df est votre DataFrame contenant la colonne \"text\"\n",
        "stop_words = set(stopwords.words('english'))\n",
        "stemmer = PorterStemmer()\n",
        "lemmatizer = WordNetLemmatizer()\n",
        "\n",
        "def clean_text(text):\n",
        "    # Convertir en minuscules\n",
        "    text = text.lower()\n",
        "    # Supprimer la ponctuation\n",
        "    text = re.sub(r'[^\\w\\s]', '', text)\n",
        "    # Supprimer les stopwords\n",
        "    word_tokens = word_tokenize(text)\n",
        "    text = ' '.join([word for word in word_tokens if word not in stop_words])\n",
        "    # Supprimer les mots extrêmement fréquents\n",
        "    word_freq = nltk.FreqDist(word_tokens)\n",
        "    total_words = len(word_tokens)\n",
        "    common_words = [word for word, freq in word_freq.items() if freq / total_words > 0.05]\n",
        "    text = ' '.join([word for word in word_tokens if word not in common_words])\n",
        "    # Supprimer les mots extrêmement rares\n",
        "    rare_words = [word for word, freq in word_freq.items() if freq / total_words < 0.0001]\n",
        "    text = ' '.join([word for word in word_tokens if word not in rare_words])\n",
        "    # Stemming\n",
        "    text = ' '.join([stemmer.stem(word) for word in word_tokens])\n",
        "    # Lemmatisation\n",
        "    text = ' '.join([lemmatizer.lemmatize(word) for word in word_tokens])\n",
        "    # Supprimer les émojis et émoticônes\n",
        "    text = re.sub(\"[\"\n",
        "                  u\"\\U0001F600-\\U0001F64F\"\n",
        "                  u\"\\U0001F300-\\U0001F5FF\"\n",
        "                  u\"\\U0001F680-\\U0001F6FF\"\n",
        "                  u\"\\U0001F1E0-\\U0001F1FF\"\n",
        "                  u\"\\U00002500-\\U00002BEF\"\n",
        "                  u\"\\U00002702-\\U000027B0\"\n",
        "                  u\"\\U00002702-\\U000027B0\"\n",
        "                  u\"\\U000024C2-\\U0001F251\"\n",
        "                  u\"\\U0001f926-\\U0001f937\"\n",
        "                  u\"\\U00010000-\\U0010ffff\"\n",
        "                  u\"\\u2640-\\u2642\"\n",
        "                  u\"\\u2600-\\u2B55\"\n",
        "                  u\"\\u200d\"\n",
        "                  u\"\\u23cf\"\n",
        "                  u\"\\u23e9\"\n",
        "                  u\"\\u231a\"\n",
        "                  u\"\\ufe0f\"\n",
        "                  u\"\\u3030\"\n",
        "                  \"]+\", '', text)\n",
        "    # Supprimer les URL\n",
        "    text = re.sub(r'https?://\\S+|www\\.\\S+', '', text)\n",
        "    # Supprimer les balises HTML\n",
        "    text = re.sub(r'<.*?>', '', text)\n",
        "\n",
        "    return text\n",
        "\n",
        "# Appliquer la fonction de nettoyage à chaque élément de la colonne \"text\"\n",
        "text = df['text'].apply(clean_text)\n",
        "print(text)\n"
      ],
      "metadata": {
        "colab": {
          "base_uri": "https://localhost:8080/"
        },
        "id": "vAUI1DmrOxi7",
        "outputId": "e2a3361f-7f07-4a42-8cce-f7361c1c17a3"
      },
      "execution_count": null,
      "outputs": [
        {
          "output_type": "stream",
          "name": "stdout",
          "text": [
            "0     applesupport causing reply disregarded tapped ...\n",
            "1     105835 business mean lot u please dm name zip ...\n",
            "2              76328 really hope change m sure wo nt nt\n",
            "3     105836 livechat online moment http tcosy94vtu8...\n",
            "4     virgintrains see attached error message ve tri...\n",
            "                            ...                        \n",
            "88    105860 wish amazon option get shipped ups stor...\n",
            "89          reschedule shit tomorrow http tcorsvzct982t\n",
            "90    105861 hey sara sorry hear issue ask s lay spe...\n",
            "91    tesco bit finding layout cumbersome removing i...\n",
            "92    105861 nt help please dm full name address ema...\n",
            "Name: text, Length: 93, dtype: object\n"
          ]
        },
        {
          "output_type": "stream",
          "name": "stderr",
          "text": [
            "[nltk_data] Downloading package punkt to /root/nltk_data...\n",
            "[nltk_data]   Package punkt is already up-to-date!\n",
            "[nltk_data] Downloading package stopwords to /root/nltk_data...\n",
            "[nltk_data]   Package stopwords is already up-to-date!\n",
            "[nltk_data] Downloading package wordnet to /root/nltk_data...\n",
            "[nltk_data]   Package wordnet is already up-to-date!\n"
          ]
        }
      ]
    }
  ]
}